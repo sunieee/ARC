{
 "cells": [
  {
   "cell_type": "markdown",
   "metadata": {},
   "source": [
    "### judge how many topics appeared before"
   ]
  },
  {
   "cell_type": "code",
   "execution_count": 16,
   "metadata": {},
   "outputs": [],
   "source": [
    "def countTopics(df):\n",
    "    # 仅需讨论何时出现与之前相同的单词\n",
    "\n",
    "    topicCnt = len(df)\n",
    "\n",
    "    singleTopicIdxDt = {}\n",
    "\n",
    "    # topic same with before list\n",
    "    topicSWBList = [0] * topicCnt\n",
    "\n",
    "    \"\"\"\n",
    "        input demo: 0_storage_method_device_system\n",
    "    \"\"\"\n",
    "    def fetchTopTopicName(topicName):\n",
    "        return topicName.split('_')[1:]\n",
    "\n",
    "    for idx, row in df.iterrows():\n",
    "        topicNames = fetchTopTopicName(row['Name'])\n",
    "        cnt = 0\n",
    "        for tn in topicNames:\n",
    "            if singleTopicIdxDt.__contains__(tn):\n",
    "                cnt += 1\n",
    "            else:\n",
    "                singleTopicIdxDt[tn] = idx\n",
    "        \n",
    "        topicSWBList[idx] = cnt\n",
    "        \n",
    "    return topicSWBList"
   ]
  },
  {
   "cell_type": "markdown",
   "metadata": {},
   "source": [
    "#### statistic for one certain topic file"
   ]
  },
  {
   "cell_type": "code",
   "execution_count": 3,
   "metadata": {},
   "outputs": [],
   "source": [
    "_0_4RatioList = []\n",
    "topicSWBList = countTopics(df)\n",
    "topicCnt = len(topicSWBList)\n",
    "\n",
    "# mt: more than\n",
    "# _0_4RatioList[j][i]: at topic j, the ratio of latter topics which have more than i topic items same with before\n",
    "# _0_4RatioList[j][3] = count(topicSWBList[k] > 3 for k in [j, topicCnt)) / (topicCnt - j)\n",
    " \n",
    "# mt0, mt1, mt2, mt3 = 0, 0, 0, 0\n",
    "mtList = [0, 0, 0, 0]\n",
    "addList = [[0, 0, 0, 0], [1, 0, 0, 0], [1, 1, 0, 0], [1, 1, 1, 0], [1, 1, 1, 1]]\n",
    "\n",
    "for i in range(topicCnt - 1, -1, -1):\n",
    "\n",
    "    cnt = topicSWBList[i]\n",
    "    \n",
    "    mtList = [mtList[i] + addList[cnt][i] for i in range(4)]\n",
    "    _0_4RatioList.append([k / (topicCnt - i) for k in mtList])\n",
    "\n",
    "_0_4_Order_RatioList = []\n",
    "for i in range(topicCnt - 1, -1, -1):\n",
    "    _0_4_Order_RatioList.append(_0_4RatioList[i])\n",
    "\n",
    "_0_4_Order_RatioList = _0_4RatioList\n",
    "\n",
    "dfCnt = pd.Series(topicSWBList, name='appBefore')\n",
    "dfRatio = pd.DataFrame(_0_4_Order_RatioList, columns=['MT0', 'MT1', 'MT2', 'MT3'])\n",
    "df0 = pd.concat([df, dfCnt, dfRatio], axis=1)\n",
    "\n",
    "df0.to_csv(f'{resDir}/topicWithApp.csv', index=False)"
   ]
  },
  {
   "cell_type": "markdown",
   "metadata": {},
   "source": [
    "#### statistic for all files generate"
   ]
  },
  {
   "cell_type": "code",
   "execution_count": 18,
   "metadata": {},
   "outputs": [],
   "source": [
    "import pandas as pd\n",
    "import os\n",
    "\n",
    "authorType = 'All'\n",
    "workDir = f'./topic{authorNum}/version'\n",
    "resDir = f'./results'\n",
    "\n",
    "for field in ['visualization']:\n",
    "    infoList = []\n",
    "    for dir in os.listdir(workDir):\n",
    "        srcDir = f'{workDir}/{dir}/output/{field}'\n",
    "        if not os.path.exists(srcDir):\n",
    "            continue\n",
    "        df0 = pd.read_csv(f'{srcDir}/topic_count_name.csv')\n",
    "        topicSWBList = countTopics(df0)\n",
    "        topicCnt = len(topicSWBList)\n",
    "        mtList = [0, 0, 0, 0]\n",
    "        addList = [[0, 0, 0, 0], [1, 0, 0, 0], [1, 1, 0, 0], [1, 1, 1, 0], [1, 1, 1, 1]]\n",
    "\n",
    "        for i in range(topicCnt):\n",
    "            cnt = topicSWBList[i]\n",
    "            mtList = [mtList[i] + addList[cnt][i] for i in range(4)]\n",
    "\n",
    "        mtList = [mtList[i] / topicCnt for i in range(4)]\n",
    "        top3Counts = list(df0.Count.values[:3])\n",
    "        infoList.append(mtList + top3Counts + [topicCnt, dir])\n",
    "\n",
    "        with open(f'./results/{field}{authorType}Results.txt', 'a+') as f:\n",
    "            f.write(f'{srcDir}\\n')\n",
    "        \n",
    "            for i in mtList + top3Counts + [topicCnt]:\n",
    "                f.write(f'{i} ')\n",
    "            \n",
    "            f.write('\\n')\n",
    "\n",
    "    df = pd.DataFrame(infoList, columns=['MT0', 'MT1', 'MT2', 'MT3', 'topic0Count', 'topic1Count', 'topic2Count', 'topicCnt', 'dir'])\n",
    "    df.to_csv(f'{resDir}/{field}{authorType}Resutls.csv', index=False)"
   ]
  },
  {
   "cell_type": "code",
   "execution_count": 7,
   "metadata": {},
   "outputs": [
    {
     "data": {
      "text/plain": [
       "(list, [range(0, 230)])"
      ]
     },
     "execution_count": 7,
     "metadata": {},
     "output_type": "execute_result"
    }
   ],
   "source": [
    "l = range(topicCnt)\n",
    "l.__class__, l"
   ]
  },
  {
   "cell_type": "markdown",
   "metadata": {},
   "source": [
    "### get paperID title abstract csv from papers"
   ]
  },
  {
   "cell_type": "code",
   "execution_count": 13,
   "metadata": {},
   "outputs": [
    {
     "name": "stdout",
     "output_type": "stream",
     "text": [
      "137832\n",
      "80017\n"
     ]
    }
   ],
   "source": [
    "import pandas as pd\n",
    "import os\n",
    "\n",
    "resDir = './topicTop/src'\n",
    "fieldMidDt = {'visualization': 'VIS', 'database': 'DB', 'CG': 'CG', 'fellow': 'FEL'}\n",
    "\n",
    "for field in ['visualization']:\n",
    "    df = None\n",
    "    srcDir = f'./topicTop/input/{field}'\n",
    "\n",
    "    columns = ['paperID', 'title', 'abstract', 'year']\n",
    "\n",
    "    for fn in os.listdir(srcDir):\n",
    "        df0 = pd.read_csv(f'{srcDir}/{fn}')\n",
    "        # if keyID in set(str(k) for k in df0.paperID.values):\n",
    "        #     print(fn)\n",
    "        #     print(len(df0), 0 if df is None else len(df))\n",
    "        df0 = df0[columns]\n",
    "        df0.fillna('', inplace=True)\n",
    "        \n",
    "        if df is None:\n",
    "            df = df0\n",
    "        else:\n",
    "            df = pd.concat([df, df0])\n",
    "\n",
    "    # df.fillna('', inplace=True)\n",
    "    print(len(df))\n",
    "\n",
    "    dfSingle = df.drop_duplicates(subset=['paperID'], keep='first')\n",
    "    print(len(dfSingle))  \n",
    "    \n",
    "\n",
    "    dfSingle.to_csv(f'{resDir}/papers{fieldMidDt[field]}Top.csv', index=False)\n",
    "    "
   ]
  },
  {
   "cell_type": "code",
   "execution_count": 14,
   "metadata": {},
   "outputs": [
    {
     "name": "stderr",
     "output_type": "stream",
     "text": [
      "/tmp/ipykernel_372236/2435616785.py:1: SettingWithCopyWarning: \n",
      "A value is trying to be set on a copy of a slice from a DataFrame\n",
      "\n",
      "See the caveats in the documentation: https://pandas.pydata.org/pandas-docs/stable/user_guide/indexing.html#returning-a-view-versus-a-copy\n",
      "  dfSingle.fillna('', inplace=True)\n"
     ]
    },
    {
     "data": {
      "text/plain": [
       "14609"
      ]
     },
     "execution_count": 14,
     "metadata": {},
     "output_type": "execute_result"
    }
   ],
   "source": [
    "dfSingle.fillna('', inplace=True)\n",
    "len(dfSingle[dfSingle['abstract'] == ''])"
   ]
  },
  {
   "cell_type": "code",
   "execution_count": 11,
   "metadata": {},
   "outputs": [
    {
     "data": {
      "text/html": [
       "<div>\n",
       "<style scoped>\n",
       "    .dataframe tbody tr th:only-of-type {\n",
       "        vertical-align: middle;\n",
       "    }\n",
       "\n",
       "    .dataframe tbody tr th {\n",
       "        vertical-align: top;\n",
       "    }\n",
       "\n",
       "    .dataframe thead th {\n",
       "        text-align: right;\n",
       "    }\n",
       "</style>\n",
       "<table border=\"1\" class=\"dataframe\">\n",
       "  <thead>\n",
       "    <tr style=\"text-align: right;\">\n",
       "      <th></th>\n",
       "      <th>paperID</th>\n",
       "      <th>title</th>\n",
       "      <th>abstract</th>\n",
       "      <th>year</th>\n",
       "    </tr>\n",
       "  </thead>\n",
       "  <tbody>\n",
       "    <tr>\n",
       "      <th>0</th>\n",
       "      <td>111991172</td>\n",
       "      <td>Temporal and video constraint databases</td>\n",
       "      <td>This dissertation proposes a general, flexible...</td>\n",
       "      <td>2000.0</td>\n",
       "    </tr>\n",
       "    <tr>\n",
       "      <th>1</th>\n",
       "      <td>13101404</td>\n",
       "      <td>Moving Objects Databases</td>\n",
       "      <td>Each moving objects database represents the tr...</td>\n",
       "      <td>2010.0</td>\n",
       "    </tr>\n",
       "    <tr>\n",
       "      <th>2</th>\n",
       "      <td>1486518722</td>\n",
       "      <td>Model-Theoretic Minimal Chenge Operators for C...</td>\n",
       "      <td>Database systems should allow users to insert ...</td>\n",
       "      <td>1997.0</td>\n",
       "    </tr>\n",
       "    <tr>\n",
       "      <th>3</th>\n",
       "      <td>1498119955</td>\n",
       "      <td>A Closed Form for Datalog Queries with Integer...</td>\n",
       "      <td>The use of constraints within logic programmin...</td>\n",
       "      <td>1990.0</td>\n",
       "    </tr>\n",
       "    <tr>\n",
       "      <th>4</th>\n",
       "      <td>1507692784</td>\n",
       "      <td>DOAS: a drought online analysis system with co...</td>\n",
       "      <td>The Standardized Precipitation Index (SPI) [5]...</td>\n",
       "      <td>2004.0</td>\n",
       "    </tr>\n",
       "    <tr>\n",
       "      <th>...</th>\n",
       "      <td>...</td>\n",
       "      <td>...</td>\n",
       "      <td>...</td>\n",
       "      <td>...</td>\n",
       "    </tr>\n",
       "    <tr>\n",
       "      <th>9</th>\n",
       "      <td>2936285431</td>\n",
       "      <td>Political Discussions in Homogeneous and Cross...</td>\n",
       "      <td>Online platforms, such as Facebook, Twitter, a...</td>\n",
       "      <td>2019.0</td>\n",
       "    </tr>\n",
       "    <tr>\n",
       "      <th>11</th>\n",
       "      <td>2962830985</td>\n",
       "      <td>What Gets Media Attention and How Media Attent...</td>\n",
       "      <td></td>\n",
       "      <td>2017.0</td>\n",
       "    </tr>\n",
       "    <tr>\n",
       "      <th>12</th>\n",
       "      <td>2963132053</td>\n",
       "      <td>Political Discussions in Homogeneous and Cross...</td>\n",
       "      <td>Online platforms, such as Facebook, Twitter, a...</td>\n",
       "      <td>2019.0</td>\n",
       "    </tr>\n",
       "    <tr>\n",
       "      <th>13</th>\n",
       "      <td>2963185664</td>\n",
       "      <td>Two Tales of the World: Comparison of Widely U...</td>\n",
       "      <td>In this work, we compare GDELT and Event Regis...</td>\n",
       "      <td>2016.0</td>\n",
       "    </tr>\n",
       "    <tr>\n",
       "      <th>18</th>\n",
       "      <td>3037713666</td>\n",
       "      <td>Empirical Evaluation of Three Common Assumptio...</td>\n",
       "      <td>In this work, we empirically validate three co...</td>\n",
       "      <td>2020.0</td>\n",
       "    </tr>\n",
       "  </tbody>\n",
       "</table>\n",
       "<p>131343 rows × 4 columns</p>\n",
       "</div>"
      ],
      "text/plain": [
       "       paperID                                              title  \\\n",
       "0    111991172            Temporal and video constraint databases   \n",
       "1     13101404                           Moving Objects Databases   \n",
       "2   1486518722  Model-Theoretic Minimal Chenge Operators for C...   \n",
       "3   1498119955  A Closed Form for Datalog Queries with Integer...   \n",
       "4   1507692784  DOAS: a drought online analysis system with co...   \n",
       "..         ...                                                ...   \n",
       "9   2936285431  Political Discussions in Homogeneous and Cross...   \n",
       "11  2962830985  What Gets Media Attention and How Media Attent...   \n",
       "12  2963132053  Political Discussions in Homogeneous and Cross...   \n",
       "13  2963185664  Two Tales of the World: Comparison of Widely U...   \n",
       "18  3037713666  Empirical Evaluation of Three Common Assumptio...   \n",
       "\n",
       "                                             abstract    year  \n",
       "0   This dissertation proposes a general, flexible...  2000.0  \n",
       "1   Each moving objects database represents the tr...  2010.0  \n",
       "2   Database systems should allow users to insert ...  1997.0  \n",
       "3   The use of constraints within logic programmin...  1990.0  \n",
       "4   The Standardized Precipitation Index (SPI) [5]...  2004.0  \n",
       "..                                                ...     ...  \n",
       "9   Online platforms, such as Facebook, Twitter, a...  2019.0  \n",
       "11                                                     2017.0  \n",
       "12  Online platforms, such as Facebook, Twitter, a...  2019.0  \n",
       "13  In this work, we compare GDELT and Event Regis...  2016.0  \n",
       "18  In this work, we empirically validate three co...  2020.0  \n",
       "\n",
       "[131343 rows x 4 columns]"
      ]
     },
     "execution_count": 11,
     "metadata": {},
     "output_type": "execute_result"
    }
   ],
   "source": [
    "dfSingle"
   ]
  },
  {
   "cell_type": "code",
   "execution_count": 11,
   "metadata": {},
   "outputs": [
    {
     "data": {
      "text/plain": [
       "(131343, 16625)"
      ]
     },
     "execution_count": 11,
     "metadata": {},
     "output_type": "execute_result"
    }
   ],
   "source": [
    "import pandas as pd\n",
    "\n",
    "df = pd.read_csv('./topicTop/src/papersDBTop.csv')\n",
    "df.fillna(-1, inplace=True)\n",
    "\n",
    "len(df), len(df[df['abstract'] == -1])"
   ]
  },
  {
   "cell_type": "code",
   "execution_count": 3,
   "metadata": {},
   "outputs": [
    {
     "data": {
      "text/plain": [
       "(1155962, 394859)"
      ]
     },
     "execution_count": 3,
     "metadata": {},
     "output_type": "execute_result"
    }
   ],
   "source": [
    "import pandas as pd\n",
    "\n",
    "df = pd.read_csv('./topicAll/src/papersInfoAll.csv')\n",
    "df.fillna(-1, inplace=True)\n",
    "\n",
    "len(df), len(df[df['abstract'] == -1])"
   ]
  },
  {
   "cell_type": "code",
   "execution_count": 12,
   "metadata": {},
   "outputs": [
    {
     "data": {
      "text/plain": [
       "(77310, 11822)"
      ]
     },
     "execution_count": 12,
     "metadata": {},
     "output_type": "execute_result"
    }
   ],
   "source": [
    "import pandas as pd\n",
    "\n",
    "df = pd.read_csv('./topicTop/src/papersCGTop.csv')\n",
    "df.fillna(-1, inplace=True)\n",
    "\n",
    "len(df), len(df[df['abstract'] == -1])\n",
    "\n"
   ]
  },
  {
   "cell_type": "code",
   "execution_count": 5,
   "metadata": {},
   "outputs": [
    {
     "name": "stdout",
     "output_type": "stream",
     "text": [
      "254938\n",
      "157334\n"
     ]
    }
   ],
   "source": [
    "import pandas as pd\n",
    "import os\n",
    "\n",
    "srcDir = './topic/input/database'\n",
    "resDir = './topic/src'\n",
    "\n",
    "df1 = None\n",
    "\n",
    "columns = ['paperID', 'title', 'abstract']\n",
    "\n",
    "for fn in os.listdir(srcDir):\n",
    "    df0 = pd.read_csv(f'{srcDir}/{fn}')\n",
    "    df0 = df0[columns]\n",
    "    if df1 is None:\n",
    "        df1 = df0\n",
    "    else:\n",
    "        df1 = pd.concat([df1, df0])\n",
    "\n",
    "df1.fillna('', inplace=True)\n",
    "print(len(df1))\n",
    "\n",
    "dfSingle1 = df1.drop_duplicates(subset=['paperID'], keep='first')\n",
    "print(len(dfSingle1))  "
   ]
  },
  {
   "cell_type": "markdown",
   "metadata": {},
   "source": [
    "### delete '\\n' in abstract"
   ]
  },
  {
   "cell_type": "code",
   "execution_count": 29,
   "metadata": {},
   "outputs": [],
   "source": [
    "import pandas as pd\n",
    "import os\n",
    "\n",
    "srcDir = './topicVCG/input/VCG'\n",
    "resDir = './topicVCG/input/VCGNew'\n",
    "\n",
    "for fn in os.listdir(srcDir):\n",
    "    df = pd.read_csv(f'{srcDir}/{fn}')\n",
    "    df.fillna('', inplace=True)\n",
    "    df['abstract'] = df['abstract'].apply(lambda x : x.replace('\\n', ' '))\n",
    "    df.to_csv(f'{resDir}/{fn}', index=False)"
   ]
  },
  {
   "cell_type": "code",
   "execution_count": 32,
   "metadata": {},
   "outputs": [
    {
     "data": {
      "text/plain": [
       "(6109, 6109)"
      ]
     },
     "execution_count": 32,
     "metadata": {},
     "output_type": "execute_result"
    }
   ],
   "source": [
    "len(os.listdir(srcDir)), len(os.listdir(resDir))"
   ]
  },
  {
   "cell_type": "code",
   "execution_count": 6,
   "metadata": {},
   "outputs": [
    {
     "data": {
      "text/plain": [
       "0.4282074"
      ]
     },
     "execution_count": 6,
     "metadata": {},
     "output_type": "execute_result"
    }
   ],
   "source": [
    "from random import shuffle\n",
    "\n",
    "teams = ['A', 'A', 'A', 'B', 'C', 'D', 'E', 'F']\n",
    "times = 10000000\n",
    "cnt = 0\n",
    "\n",
    "for i in range(times):\n",
    "    shuffle(teams)\n",
    "    for j in range(4):\n",
    "        if teams[2 * j] == teams[2 * j + 1]:\n",
    "            cnt += 1\n",
    "            break\n",
    "\n",
    "cnt / times"
   ]
  },
  {
   "cell_type": "markdown",
   "metadata": {},
   "source": [
    "### test BERTopic's approximate distribution"
   ]
  },
  {
   "cell_type": "code",
   "execution_count": 9,
   "metadata": {},
   "outputs": [
    {
     "data": {
      "text/plain": [
       "True"
      ]
     },
     "execution_count": 9,
     "metadata": {},
     "output_type": "execute_result"
    }
   ],
   "source": [
    "import torch\n",
    "torch.cuda.is_available()"
   ]
  },
  {
   "cell_type": "code",
   "execution_count": 6,
   "metadata": {},
   "outputs": [],
   "source": [
    "import pandas as pd\n",
    "from bertopic import BERTopic\n",
    "\n",
    "workDir = './topicTop'\n",
    "field = 'CG'\n",
    "\n",
    "df = pd.read_csv(f'{workDir}/src/papers{field}Top.csv')\n",
    "df.fillna('', inplace=True)\n",
    "    \n",
    "df['documents'] = (df['title'] + '. ') * 3 +  df['abstract']\n",
    "paperKey = df.paperID.tolist()\n",
    "docs = df.documents.tolist()\n",
    "\n",
    "topic_model = BERTopic.load(f'{workDir}/model/{field}_model')"
   ]
  },
  {
   "cell_type": "code",
   "execution_count": 7,
   "metadata": {},
   "outputs": [
    {
     "data": {
      "text/html": [
       "<div>\n",
       "<style scoped>\n",
       "    .dataframe tbody tr th:only-of-type {\n",
       "        vertical-align: middle;\n",
       "    }\n",
       "\n",
       "    .dataframe tbody tr th {\n",
       "        vertical-align: top;\n",
       "    }\n",
       "\n",
       "    .dataframe thead th {\n",
       "        text-align: right;\n",
       "    }\n",
       "</style>\n",
       "<table border=\"1\" class=\"dataframe\">\n",
       "  <thead>\n",
       "    <tr style=\"text-align: right;\">\n",
       "      <th></th>\n",
       "      <th>Topic</th>\n",
       "      <th>Count</th>\n",
       "      <th>Name</th>\n",
       "    </tr>\n",
       "  </thead>\n",
       "  <tbody>\n",
       "    <tr>\n",
       "      <th>0</th>\n",
       "      <td>-1</td>\n",
       "      <td>31547</td>\n",
       "      <td>-1_image_method_data_based</td>\n",
       "    </tr>\n",
       "    <tr>\n",
       "      <th>1</th>\n",
       "      <td>0</td>\n",
       "      <td>9747</td>\n",
       "      <td>0_graphics_visualization_proceedings_computer</td>\n",
       "    </tr>\n",
       "    <tr>\n",
       "      <th>2</th>\n",
       "      <td>1</td>\n",
       "      <td>3094</td>\n",
       "      <td>1_display_device_screen_touch</td>\n",
       "    </tr>\n",
       "    <tr>\n",
       "      <th>3</th>\n",
       "      <td>2</td>\n",
       "      <td>2043</td>\n",
       "      <td>2_image_camera_processing_photographing</td>\n",
       "    </tr>\n",
       "    <tr>\n",
       "      <th>4</th>\n",
       "      <td>3</td>\n",
       "      <td>1785</td>\n",
       "      <td>3_visualization_visual_data_analysis</td>\n",
       "    </tr>\n",
       "    <tr>\n",
       "      <th>...</th>\n",
       "      <td>...</td>\n",
       "      <td>...</td>\n",
       "      <td>...</td>\n",
       "    </tr>\n",
       "    <tr>\n",
       "      <th>68</th>\n",
       "      <td>67</td>\n",
       "      <td>121</td>\n",
       "      <td>67_visibility_culling_occlusion_occluders</td>\n",
       "    </tr>\n",
       "    <tr>\n",
       "      <th>69</th>\n",
       "      <td>68</td>\n",
       "      <td>120</td>\n",
       "      <td>68_shading_phong_relief_normals</td>\n",
       "    </tr>\n",
       "    <tr>\n",
       "      <th>70</th>\n",
       "      <td>69</td>\n",
       "      <td>110</td>\n",
       "      <td>69_plenoptic_camera_focused_cameras</td>\n",
       "    </tr>\n",
       "    <tr>\n",
       "      <th>71</th>\n",
       "      <td>70</td>\n",
       "      <td>102</td>\n",
       "      <td>70_subdivision_schemes_scheme_extraordinary</td>\n",
       "    </tr>\n",
       "    <tr>\n",
       "      <th>72</th>\n",
       "      <td>71</td>\n",
       "      <td>102</td>\n",
       "      <td>71_distance_geodesic_distances_computation</td>\n",
       "    </tr>\n",
       "  </tbody>\n",
       "</table>\n",
       "<p>73 rows × 3 columns</p>\n",
       "</div>"
      ],
      "text/plain": [
       "    Topic  Count                                           Name\n",
       "0      -1  31547                     -1_image_method_data_based\n",
       "1       0   9747  0_graphics_visualization_proceedings_computer\n",
       "2       1   3094                  1_display_device_screen_touch\n",
       "3       2   2043        2_image_camera_processing_photographing\n",
       "4       3   1785           3_visualization_visual_data_analysis\n",
       "..    ...    ...                                            ...\n",
       "68     67    121      67_visibility_culling_occlusion_occluders\n",
       "69     68    120                68_shading_phong_relief_normals\n",
       "70     69    110            69_plenoptic_camera_focused_cameras\n",
       "71     70    102    70_subdivision_schemes_scheme_extraordinary\n",
       "72     71    102     71_distance_geodesic_distances_computation\n",
       "\n",
       "[73 rows x 3 columns]"
      ]
     },
     "execution_count": 7,
     "metadata": {},
     "output_type": "execute_result"
    }
   ],
   "source": [
    "topic_model.get_topic_info()"
   ]
  },
  {
   "cell_type": "code",
   "execution_count": 8,
   "metadata": {},
   "outputs": [
    {
     "name": "stderr",
     "output_type": "stream",
     "text": [
      "100%|██████████| 78/78 [01:50<00:00,  1.42s/it]\n"
     ]
    }
   ],
   "source": [
    "topic_distr, topic_token_distr = topic_model.approximate_distribution(docs, calculate_tokens=True)\n"
   ]
  },
  {
   "cell_type": "code",
   "execution_count": 14,
   "metadata": {},
   "outputs": [
    {
     "data": {
      "text/plain": [
       "77310"
      ]
     },
     "execution_count": 14,
     "metadata": {},
     "output_type": "execute_result"
    }
   ],
   "source": [
    "import numpy as np\n",
    "\n",
    "maxIdxList = [arr.argsort()[-4:] for arr in topic_distr]\n",
    "maxProbList = [arr.sort()[-4] for arr in topic_distr]\n",
    "\n",
    "len(maxIdxList)"
   ]
  },
  {
   "cell_type": "code",
   "execution_count": 23,
   "metadata": {},
   "outputs": [
    {
     "name": "stdout",
     "output_type": "stream",
     "text": [
      "7 41 36\n"
     ]
    }
   ],
   "source": [
    "doc_info = topic_model.get_document_info(docs)\n",
    "doc_topic_info = list(doc_info[\"Topic\"].values)\n",
    "\n",
    "for i in range(len(maxIdxList)):\n",
    "    if doc_topic_info[i] != maxIdxList[i][1] and doc_topic_info[i] != -1:\n",
    "        print(i, doc_topic_info[i], maxIdxList[i][1])\n",
    "        break"
   ]
  },
  {
   "cell_type": "code",
   "execution_count": 28,
   "metadata": {},
   "outputs": [
    {
     "data": {
      "text/plain": [
       "array([0.        , 0.03226806, 0.07398971, 0.        , 0.        ,\n",
       "       0.13588537, 0.01178469, 0.        , 0.        , 0.        ,\n",
       "       0.        , 0.00726709, 0.        , 0.        , 0.        ,\n",
       "       0.        , 0.        , 0.        , 0.        , 0.        ,\n",
       "       0.        , 0.07467349, 0.        , 0.03827896, 0.        ,\n",
       "       0.01925361, 0.        , 0.        , 0.        , 0.        ,\n",
       "       0.        , 0.        , 0.        , 0.        , 0.0686642 ,\n",
       "       0.        , 0.23428091, 0.        , 0.        , 0.        ,\n",
       "       0.        , 0.22286175, 0.        , 0.        , 0.        ,\n",
       "       0.        , 0.        , 0.0059487 , 0.        , 0.        ,\n",
       "       0.        , 0.        , 0.        , 0.00715413, 0.        ,\n",
       "       0.        , 0.        , 0.        , 0.        , 0.        ,\n",
       "       0.        , 0.        , 0.00540053, 0.0622888 , 0.        ,\n",
       "       0.        , 0.        , 0.        , 0.        , 0.        ,\n",
       "       0.        , 0.        ])"
      ]
     },
     "execution_count": 28,
     "metadata": {},
     "output_type": "execute_result"
    }
   ],
   "source": [
    "topic_distr[7]"
   ]
  },
  {
   "cell_type": "markdown",
   "metadata": {},
   "source": [
    "### try N-grams of CountVectorizer"
   ]
  },
  {
   "cell_type": "code",
   "execution_count": 38,
   "metadata": {},
   "outputs": [
    {
     "name": "stdout",
     "output_type": "stream",
     "text": [
      "  (0, 13)\t1\n",
      "  (0, 3)\t1\n",
      "  (0, 15)\t1\n",
      "  (0, 5)\t1\n",
      "  (0, 0)\t1\n",
      "  (0, 9)\t1\n",
      "  (0, 7)\t1\n",
      "  (0, 11)\t1\n",
      "  (0, 2)\t1\n",
      "  (0, 14)\t1\n",
      "  (0, 4)\t1\n",
      "  (0, 16)\t1\n",
      "  (0, 6)\t1\n",
      "  (0, 1)\t1\n",
      "  (0, 10)\t1\n",
      "  (0, 8)\t1\n",
      "  (0, 12)\t1\n",
      "  (1, 13)\t1\n",
      "  (1, 3)\t1\n",
      "  (1, 14)\t1\n"
     ]
    }
   ],
   "source": [
    "#coding=utf-8\n",
    "'''\n",
    "Created on 2018-1-25\n",
    "\n",
    "'''\n",
    "\n",
    "from sklearn.feature_extraction.text import CountVectorizer\n",
    "import pandas as pd\n",
    "df = pd.read_csv('../CitationAnalysis/src/originFiles/visDataPapers.csv')\n",
    "df.fillna('', inplace=True)\n",
    "df = df[df['abstract'] != '']\n",
    "df.reset_index(drop=True, inplace=True)\n",
    "text = [s.lower() for s in (df.abstract.to_list())]\n",
    "\n",
    "text = [\"A smile is the most charming part of a person forever.\",\"A smile is\"]\n",
    "\n",
    "# ngram_range=(2, 2)表明适应2-gram,decode_error=\"ignore\"忽略异常字符,token_pattern按照单词切割\n",
    "# ngram_vectorizer = CountVectorizer(ngram_range=(2, 2), stop_words='english')\n",
    "ngram_vectorizer = CountVectorizer(ngram_range=(1, 2))\n",
    "\n",
    "x1 = ngram_vectorizer.fit_transform(text)\n",
    "print(x1)\n",
    "# (0, 7)    1\n",
    "# (0, 0)    1\n",
    "# (0, 5)    1\n",
    "# (0, 6)    1\n",
    "# (0, 2)    1\n",
    "# (0, 4)    1\n",
    "# (0, 9)    1\n",
    "# (0, 3)    1\n",
    "# (0, 8)    1\n",
    "# (0, 1)    1\n",
    "# (1, 8)    1\n",
    "# (1, 1)    1\n"
   ]
  },
  {
   "cell_type": "code",
   "execution_count": 39,
   "metadata": {},
   "outputs": [
    {
     "name": "stdout",
     "output_type": "stream",
     "text": [
      "[[1 1 1 1 1 1 1 1 1 1 1 1 1 1 1 1 1]\n",
      " [0 0 0 1 0 0 0 0 0 0 0 0 0 1 1 0 0]]\n",
      "{'smile': 13, 'is': 3, 'the': 15, 'most': 5, 'charming': 0, 'part': 9, 'of': 7, 'person': 11, 'forever': 2, 'smile is': 14, 'is the': 4, 'the most': 16, 'most charming': 6, 'charming part': 1, 'part of': 10, 'of person': 8, 'person forever': 12}\n"
     ]
    }
   ],
   "source": [
    "print(x1.toarray())\n",
    "# [[1 1 1 1 1 1 1 1 1 1]\n",
    "#  [0 1 0 0 0 0 0 0 1 0]]\n",
    "# 查看生成的词表\n",
    "print(ngram_vectorizer.vocabulary_)\n",
    "# {u'person forever': 7, u'part of': 6, u'smile is': 8, u'a smile': 1, u'of a': 5, u'the most': 9, u'is the': 3, u'charming part': 2, u'a person': 0, u'most charming': 4}"
   ]
  },
  {
   "cell_type": "code",
   "execution_count": 13,
   "metadata": {},
   "outputs": [
    {
     "data": {
      "text/plain": [
       "38"
      ]
     },
     "execution_count": 13,
     "metadata": {},
     "output_type": "execute_result"
    }
   ],
   "source": [
    "with open('./results/tmp1.txt') as f:\n",
    "    citSet1 = set(s.strip()[4:] for s in f.readlines())\n",
    "len(citSet1)"
   ]
  },
  {
   "cell_type": "code",
   "execution_count": 6,
   "metadata": {},
   "outputs": [
    {
     "data": {
      "text/plain": [
       "array([3, 1, 2, 0, 4, 5])"
      ]
     },
     "execution_count": 6,
     "metadata": {},
     "output_type": "execute_result"
    }
   ],
   "source": [
    "import numpy as np\n",
    "\n",
    "arr = np.array([1, 2, 2, 3, 1, 1])\n",
    "np.argsort(-arr)"
   ]
  },
  {
   "cell_type": "code",
   "execution_count": 7,
   "metadata": {},
   "outputs": [
    {
     "name": "stdout",
     "output_type": "stream",
     "text": [
      "317802\n"
     ]
    },
    {
     "data": {
      "text/plain": [
       "68824"
      ]
     },
     "execution_count": 7,
     "metadata": {},
     "output_type": "execute_result"
    }
   ],
   "source": [
    "import pandas as pd \n",
    "\n",
    "df = pd.read_csv('./topicTop/src/papersVISTop.csv')\n",
    "print(len(df))\n",
    "df.fillna('', inplace=True)\n",
    "len(df[df['abstract'] == ''])"
   ]
  },
  {
   "cell_type": "code",
   "execution_count": 8,
   "metadata": {},
   "outputs": [
    {
     "name": "stdout",
     "output_type": "stream",
     "text": [
      "80017\n"
     ]
    },
    {
     "data": {
      "text/plain": [
       "42275"
      ]
     },
     "execution_count": 8,
     "metadata": {},
     "output_type": "execute_result"
    }
   ],
   "source": [
    "import pandas as pd \n",
    "\n",
    "df = pd.read_csv('./topicAll/src/papersVISAll.csv')\n",
    "print(len(df))\n",
    "df.fillna('', inplace=True)\n",
    "len(df[df['abstract'] == ''])"
   ]
  },
  {
   "cell_type": "code",
   "execution_count": null,
   "metadata": {},
   "outputs": [],
   "source": []
  },
  {
   "cell_type": "markdown",
   "metadata": {},
   "source": [
    "### statistic for the common words ratio automatic learned using bertopic with TOP & ALL authors\n",
    "\n",
    "**especially top10 words**\n",
    "\n",
    "do not statistic for stemming words yet"
   ]
  },
  {
   "cell_type": "code",
   "execution_count": 28,
   "metadata": {},
   "outputs": [],
   "source": [
    "import os\n",
    "import pandas as pd\n",
    "\n",
    "\n",
    "authorTypeList = ['All', 'Top']\n",
    "# authorType = 'Top'\n",
    "# fieldList = ['visualization']\n",
    "field = 'visualization'\n",
    "\n",
    "# top 8 words, top Half words, allWords\n",
    "def fetchTopicWordsFromCSV(filename):\n",
    "    df = pd.read_csv(filename)\n",
    "    \n",
    "    def fetchWords(topicName):\n",
    "        return topicName.split('_')[1:]\n",
    "    \n",
    "    def findTopics(dfTmp):\n",
    "        topics = set()\n",
    "        for topicName in dfTmp.Name.values:\n",
    "            topicList = fetchWords(topicName)\n",
    "            for tn in topicList:\n",
    "                topics.add(tn)\n",
    "    \n",
    "        \n",
    "        return topics\n",
    "\n",
    "    allTopics = findTopics(df)\n",
    "    topTopics = findTopics(df[:8])\n",
    "    halfTopics = findTopics(df[:len(df)//2])\n",
    "\n",
    "    return allTopics, topTopics, halfTopics\n",
    "\n",
    "midDir = '23-12-07_22:02:17'\n",
    "\n",
    "srcDir = f'./topic{authorType}/version/{midDir}/output/{field}'\n",
    "filename = f'{srcDir}/topic_count_name.csv'\n",
    "\n",
    "at, tt, ht = fetchTopicWordsFromCSV(filename)\n",
    "\n",
    "dirIndexDt = {}\n",
    "dirNameList = []\n",
    "idx = 0\n",
    "allTopicsList = []\n",
    "topTopicsList = []\n",
    "halfTopicsList = []\n",
    "\n",
    "for authorType in authorTypeList:\n",
    "    workDir = f'./topic{authorType}/version'\n",
    "    for midDir in os.listdir(workDir):\n",
    "        srcDir = f'{workDir}/{midDir}/output/{field}'\n",
    "        if not os.path.exists(srcDir):\n",
    "            continue\n",
    "        filename = f'{srcDir}/topic_count_name.csv'\n",
    "        \n",
    "        at, tt, ht = fetchTopicWordsFromCSV(filename)\n",
    "        \n",
    "        allTopicsList.append(at)\n",
    "        topTopicsList.append(tt)\n",
    "        halfTopicsList.append(ht)\n",
    "        \n",
    "        dirName = f'{authorType}_{midDir}'\n",
    "        \n",
    "        dirIndexDt[dirName] = idx\n",
    "        dirNameList.append(dirName)\n",
    "        idx += 1"
   ]
  },
  {
   "cell_type": "code",
   "execution_count": 29,
   "metadata": {},
   "outputs": [],
   "source": [
    "import numpy as np\n",
    "\n",
    "def calSimilarity(setBase, setCmp):\n",
    "    return len(setBase & setCmp) / len(setBase)\n",
    "\n",
    "def calSimilarityList(setBase, setList):\n",
    "    return [calSimilarity(setBase, setCmp) for setCmp in setList]\n",
    "\n",
    "def calSelfConfusionMatrix(setList):\n",
    "    return np.array([calSimilarityList(setBase, setList) for setBase in setList])\n",
    "\n",
    "allTopicsMatrix = calSelfConfusionMatrix(allTopicsList)\n",
    "topTopicsMatrix = calSelfConfusionMatrix(topTopicsList)\n",
    "halfTopicsMatrix = calSelfConfusionMatrix(halfTopicsList)\n"
   ]
  },
  {
   "cell_type": "code",
   "execution_count": 30,
   "metadata": {},
   "outputs": [],
   "source": [
    "df = pd.DataFrame(allTopicsMatrix, columns=dirNameList, index=dirNameList)\n",
    "df.to_csv(f'./results/{field}AllTopicsMatrix.csv')\n",
    "df = pd.DataFrame(topTopicsMatrix, columns=dirNameList, index=dirNameList)\n",
    "df.to_csv(f'./results/{field}TopTopicsMatrix.csv')\n",
    "df = pd.DataFrame(halfTopicsMatrix, columns=dirNameList, index=dirNameList)\n",
    "df.to_csv(f'./results/{field}HalfTopicsMatrix.csv')"
   ]
  },
  {
   "cell_type": "code",
   "execution_count": 32,
   "metadata": {},
   "outputs": [
    {
     "data": {
      "image/png": "[encoded data removed]",
      "text/plain": [
       "<Figure size 640x480 with 2 Axes>"
      ]
     },
     "metadata": {},
     "output_type": "display_data"
    },
    {
     "data": {
      "image/png": "[encoded data removed]",
      "text/plain": [
       "<Figure size 640x480 with 2 Axes>"
      ]
     },
     "metadata": {},
     "output_type": "display_data"
    },
    {
     "data": {
      "image/png": "[encoded data removed]",
      "text/plain": [
       "<Figure size 640x480 with 2 Axes>"
      ]
     },
     "metadata": {},
     "output_type": "display_data"
    }
   ],
   "source": [
    "import matplotlib.pyplot as plt\n",
    "import numpy as np\n",
    "\n",
    "def plot_confusion_matrix(confusion_matrix, labels, figname):\n",
    "    fig, ax = plt.subplots()\n",
    "    im = ax.imshow(confusion_matrix, cmap='Blues')\n",
    "\n",
    "    # Add colorbar\n",
    "    cbar = ax.figure.colorbar(im, ax=ax)\n",
    "\n",
    "    # Set ticks and labels\n",
    "    ax.set_xticks(np.arange(len(labels)))\n",
    "    ax.set_yticks(np.arange(len(labels)))\n",
    "    ax.set_xticklabels(labels)\n",
    "    ax.set_yticklabels(labels)\n",
    "\n",
    "    # Rotate the tick labels and set alignment\n",
    "    plt.setp(ax.get_xticklabels(), rotation=45, ha=\"right\", rotation_mode=\"anchor\")\n",
    "\n",
    "    # Loop over data dimensions and create text annotations\n",
    "    # for i in range(len(labels)):\n",
    "    #     for j in range(len(labels)):\n",
    "    #         text = ax.text(j, i, confusion_matrix[i, j], ha=\"center\", va=\"center\", color=\"w\")\n",
    "\n",
    "    # Set title and labels\n",
    "    ax.set_title(f\"{figname} Confusion Matrix\")\n",
    "    # ax.set_xlabel(\"Predicted\")\n",
    "    # ax.set_ylabel(\"Actual\")\n",
    "\n",
    "    # Save plot with high resolution\n",
    "    plt.savefig(f\"./results/{field}{figname}.png\", dpi=300)\n",
    "\n",
    "    # Show plot\n",
    "    plt.show()\n",
    "\n",
    "# Example usage\n",
    "# confusion_matrix = np.array([[10, 2, 3], [1, 12, 4], [5, 6, 15]])\n",
    "# labels = ['Class 1', 'Class 2', 'Class 3']\n",
    "labels = [f'{i}' for i in range(len(dirNameList))]\n",
    "plot_confusion_matrix(allTopicsMatrix, labels, 'AllTopics')\n",
    "plot_confusion_matrix(topTopicsMatrix, labels, 'TopTopics')\n",
    "plot_confusion_matrix(halfTopicsMatrix, labels, 'HalfTopics')\n",
    "\n"
   ]
  },
  {
   "cell_type": "code",
   "execution_count": 27,
   "metadata": {},
   "outputs": [
    {
     "data": {
      "text/plain": [
       "'All_23-11-16_19:09:36'"
      ]
     },
     "execution_count": 27,
     "metadata": {},
     "output_type": "execute_result"
    }
   ],
   "source": [
    "dirNameList[10]"
   ]
  },
  {
   "cell_type": "code",
   "execution_count": 1,
   "metadata": {},
   "outputs": [
    {
     "name": "stdout",
     "output_type": "stream",
     "text": [
      "physics\n",
      "fellow\n",
      "AI0\n",
      "CN\n",
      "HCI\n",
      "SE\n",
      "AI2\n",
      "visualization\n",
      "database\n",
      "CG\n",
      "AI1\n",
      "scigene_acl_anthology\n",
      "vis\n",
      "VCG\n"
     ]
    }
   ],
   "source": [
    "import os\n",
    "\n",
    "fieldDir = '/home/sy/MAGProcessing/create_field/out'\n",
    "for midDir in os.listdir(fieldDir):\n",
    "    if os.path.isdir(f'{fieldDir}/{midDir}'):\n",
    "        print(midDir)"
   ]
  },
  {
   "cell_type": "code",
   "execution_count": 6,
   "metadata": {},
   "outputs": [],
   "source": [
    "import os\n",
    "import paramiko\n",
    "\n",
    "def execute_command_as_root(ssh, command, sudo_password):\n",
    "    \"\"\" Execute a single command as root using sudo and the provided password \"\"\"\n",
    "    command = f\"sudo -S -p '' {command}\"\n",
    "    stdin, stdout, stderr = ssh.exec_command(command)\n",
    "    stdin.write(sudo_password + \"\\n\")\n",
    "    stdin.flush()\n",
    "    return stdout.readlines(), stderr.readlines()\n",
    "\n",
    "def upload_file_as_root(srcfield, targetField):\n",
    "    server = '82.156.152.182'\n",
    "    port = 22\n",
    "    username = 'xl'\n",
    "    password = 'QWer!@34'\n",
    "    sudo_password = 'QWer!@34'\n",
    "    \n",
    "    ssh = paramiko.SSHClient()\n",
    "    ssh.set_missing_host_key_policy(paramiko.AutoAddPolicy())\n",
    "    ssh.connect(server, port, username, password)\n",
    "\n",
    "    # Create directory as root if needed\n",
    "    srcBaseDir = f'./topicAutoSimple/output/{srcfield}'\n",
    "    tarBaseDir = f'/home/xfl/pyCode/GFVisTest/csv/{targetField}'\n",
    "    \n",
    "    stdout, stderr = execute_command_as_root(ssh, f\"mkdir -p {tarBaseDir}\", sudo_password)\n",
    "    if stderr:\n",
    "        print(\"Error in creating directory:\", stderr)\n",
    "        return\n",
    "\n",
    "    files = ['paperID2topic.json', 'field_leaves.csv', 'field_roots.csv'] \n",
    "    \n",
    "    for file in files:\n",
    "        sftp = ssh.open_sftp()\n",
    "        \n",
    "        # Temporarily upload file to a user-writable location\n",
    "        tmpName = f\"/tmp/{file}\"\n",
    "        sftp.put(f'{srcBaseDir}/{file}', tmpName)\n",
    "        sftp.close()\n",
    "\n",
    "        # Move file to the final location as root\n",
    "        _, stderr = execute_command_as_root(ssh, f\"mv {tmpName} {tarBaseDir}/{file}\", sudo_password)\n",
    "        if stderr:\n",
    "            print(\"Error in moving file:\", stderr)\n",
    "\n",
    "    ssh.close()"
   ]
  },
  {
   "cell_type": "code",
   "execution_count": 8,
   "metadata": {},
   "outputs": [],
   "source": [
    "upload_file_as_root('fellowTuring500', 'fellowTuring500')"
   ]
  },
  {
   "cell_type": "code",
   "execution_count": 1,
   "metadata": {},
   "outputs": [
    {
     "data": {
      "text/plain": [
       "'./topicAutoSimple/version/output/AIBackup1-tmp'"
      ]
     },
     "execution_count": 1,
     "metadata": {},
     "output_type": "execute_result"
    }
   ],
   "source": [
    "import shutil\n",
    "shutil.copytree('./topicAutoSimple/output/AIBackup1', './topicAutoSimple/version/output/AIBackup1-tmp')"
   ]
  },
  {
   "cell_type": "code",
   "execution_count": 60,
   "metadata": {},
   "outputs": [],
   "source": [
    "import shutil\n",
    "import os\n",
    "\n",
    "workDir = './topicTop'\n",
    "\n",
    "def saveMidFile(field):\n",
    "    dirs = ['output', 'model']\n",
    "    \n",
    "    for tarDir in dirs:\n",
    "        if os.path.exists(f'{workDir}/version/{tarDir}/{field}'):\n",
    "            shutil.rmtree(f'{workDir}/version/{tarDir}/{field}')\n",
    "            \n",
    "        os.makedirs(f'{workDir}/version/{tarDir}', exist_ok=True)\n",
    "        shutil.move(f'{workDir}/{tarDir}/{field}', f'{workDir}/version/{tarDir}')\n",
    "\n",
    "def loadResFile(field):\n",
    "    dirs = ['output', 'model']\n",
    "    # dirs = [f'{d}/{field}' for d in ['output', 'model']]\n",
    "    for tarDir in dirs:\n",
    "        shutil.move(f'{workDir}/version/{tarDir}/{field}', f'{workDir}/{tarDir}')\n",
    "\n",
    "\n",
    "def removeMidFile(field):\n",
    "    dirs = [f'{d}/{field}' for d in ['output', 'model']]\n",
    "    for tarDir in dirs:\n",
    "        shutil.rmtree(f'{workDir}/{tarDir}')\n",
    "        "
   ]
  },
  {
   "cell_type": "code",
   "execution_count": 65,
   "metadata": {},
   "outputs": [],
   "source": [
    "loadResFile('database')"
   ]
  },
  {
   "cell_type": "code",
   "execution_count": 68,
   "metadata": {},
   "outputs": [
    {
     "data": {
      "text/plain": [
       "6744"
      ]
     },
     "execution_count": 68,
     "metadata": {},
     "output_type": "execute_result"
    }
   ],
   "source": [
    "import os\n",
    "\n",
    "len(os.listdir('./topicTop/input/CG'))"
   ]
  },
  {
   "cell_type": "code",
   "execution_count": 18,
   "metadata": {},
   "outputs": [],
   "source": [
    "from bertopic import BERTopic\n",
    "import pandas as pd\n",
    "\n",
    "field = 'CG'\n",
    "workDir = './topicTop'\n",
    "dfOrigin = pd.read_csv(f'{workDir}/src/papers{field}Top.csv')\n",
    "df = dfOrigin.dropna()\n",
    "df.reset_index(drop=True, inplace=True)\n",
    "df['documents'] = df['title'] + '. ' + df['title'] + '. ' + df['title'] + '. ' + df['abstract']\n",
    "paperKey = df.paperID.tolist()\n",
    "docs = df.documents.tolist()\n",
    "\n",
    "df.to_csv(f'{workDir}/src/papers{field}TopHasAb.csv', index=False)"
   ]
  },
  {
   "cell_type": "code",
   "execution_count": 19,
   "metadata": {},
   "outputs": [
    {
     "name": "stderr",
     "output_type": "stream",
     "text": [
      "100%|██████████| 66/66 [01:06<00:00,  1.00s/it]\n"
     ]
    }
   ],
   "source": [
    "topic_model = BERTopic.load(f'{workDir}/model/{field}_model')\n",
    "topic_distr, _ = topic_model.approximate_distribution(docs, calculate_tokens=False)\n"
   ]
  },
  {
   "cell_type": "code",
   "execution_count": 23,
   "metadata": {},
   "outputs": [
    {
     "data": {
      "text/plain": [
       "77"
      ]
     },
     "execution_count": 23,
     "metadata": {},
     "output_type": "execute_result"
    }
   ],
   "source": [
    "len(topic_model.get_topic_info())"
   ]
  },
  {
   "cell_type": "code",
   "execution_count": 25,
   "metadata": {},
   "outputs": [],
   "source": [
    "columns = [f'_{i}' for i in range(len(topic_distr[0]))]"
   ]
  },
  {
   "cell_type": "code",
   "execution_count": 27,
   "metadata": {},
   "outputs": [],
   "source": [
    "dfTmp = pd.DataFrame(topic_distr, columns=columns)\n",
    "dfTmp.to_csv(f'{workDir}/src/papers{field}TopTopicDistr.csv', index=False)"
   ]
  },
  {
   "cell_type": "code",
   "execution_count": 28,
   "metadata": {},
   "outputs": [],
   "source": [
    "dfTmp['paperID'] = paperKey\n",
    "dfTmp = dfTmp[['paperID'] + columns]\n",
    "dfTmp.to_csv(f'{workDir}/src/papers{field}TopTopicDistr.csv', index=False)\n"
   ]
  },
  {
   "cell_type": "code",
   "execution_count": 13,
   "metadata": {},
   "outputs": [
    {
     "data": {
      "text/plain": [
       "_0\n",
       "1     5\n",
       "2     5\n",
       "3     3\n",
       "4     2\n",
       "5     5\n",
       "6     9\n",
       "7     5\n",
       "8     9\n",
       "9     4\n",
       "10    3\n",
       "dtype: int64"
      ]
     },
     "execution_count": 13,
     "metadata": {},
     "output_type": "execute_result"
    }
   ],
   "source": [
    "import pandas as pd\n",
    "import random\n",
    "\n",
    "mat = []\n",
    "for i in range(50):\n",
    "    ll = [random.randint(1, 10) for j in range(10)]\n",
    "    mat.append(ll)\n",
    "\n",
    "df = pd.DataFrame(mat, columns=[f'_{i}' for i in range(10)])\n",
    "df1 = df.groupby('_0').size()\n",
    "df0 = df.groupby('_0').sample(n=3, replace=True)\n",
    "\n",
    "df1"
   ]
  },
  {
   "cell_type": "code",
   "execution_count": 14,
   "metadata": {},
   "outputs": [
    {
     "data": {
      "text/html": [
       "<div>\n",
       "<style scoped>\n",
       "    .dataframe tbody tr th:only-of-type {\n",
       "        vertical-align: middle;\n",
       "    }\n",
       "\n",
       "    .dataframe tbody tr th {\n",
       "        vertical-align: top;\n",
       "    }\n",
       "\n",
       "    .dataframe thead th {\n",
       "        text-align: right;\n",
       "    }\n",
       "</style>\n",
       "<table border=\"1\" class=\"dataframe\">\n",
       "  <thead>\n",
       "    <tr style=\"text-align: right;\">\n",
       "      <th></th>\n",
       "      <th>_0</th>\n",
       "      <th>_1</th>\n",
       "      <th>_2</th>\n",
       "      <th>_3</th>\n",
       "      <th>_4</th>\n",
       "      <th>_5</th>\n",
       "      <th>_6</th>\n",
       "      <th>_7</th>\n",
       "      <th>_8</th>\n",
       "      <th>_9</th>\n",
       "    </tr>\n",
       "  </thead>\n",
       "  <tbody>\n",
       "    <tr>\n",
       "      <th>24</th>\n",
       "      <td>1</td>\n",
       "      <td>3</td>\n",
       "      <td>5</td>\n",
       "      <td>6</td>\n",
       "      <td>3</td>\n",
       "      <td>4</td>\n",
       "      <td>5</td>\n",
       "      <td>8</td>\n",
       "      <td>5</td>\n",
       "      <td>5</td>\n",
       "    </tr>\n",
       "    <tr>\n",
       "      <th>49</th>\n",
       "      <td>1</td>\n",
       "      <td>8</td>\n",
       "      <td>7</td>\n",
       "      <td>6</td>\n",
       "      <td>5</td>\n",
       "      <td>9</td>\n",
       "      <td>10</td>\n",
       "      <td>3</td>\n",
       "      <td>4</td>\n",
       "      <td>4</td>\n",
       "    </tr>\n",
       "    <tr>\n",
       "      <th>11</th>\n",
       "      <td>1</td>\n",
       "      <td>6</td>\n",
       "      <td>6</td>\n",
       "      <td>4</td>\n",
       "      <td>5</td>\n",
       "      <td>7</td>\n",
       "      <td>2</td>\n",
       "      <td>5</td>\n",
       "      <td>10</td>\n",
       "      <td>8</td>\n",
       "    </tr>\n",
       "    <tr>\n",
       "      <th>46</th>\n",
       "      <td>2</td>\n",
       "      <td>5</td>\n",
       "      <td>6</td>\n",
       "      <td>9</td>\n",
       "      <td>7</td>\n",
       "      <td>10</td>\n",
       "      <td>3</td>\n",
       "      <td>5</td>\n",
       "      <td>8</td>\n",
       "      <td>10</td>\n",
       "    </tr>\n",
       "    <tr>\n",
       "      <th>21</th>\n",
       "      <td>2</td>\n",
       "      <td>4</td>\n",
       "      <td>10</td>\n",
       "      <td>5</td>\n",
       "      <td>1</td>\n",
       "      <td>7</td>\n",
       "      <td>1</td>\n",
       "      <td>10</td>\n",
       "      <td>9</td>\n",
       "      <td>5</td>\n",
       "    </tr>\n",
       "    <tr>\n",
       "      <th>26</th>\n",
       "      <td>2</td>\n",
       "      <td>8</td>\n",
       "      <td>8</td>\n",
       "      <td>8</td>\n",
       "      <td>7</td>\n",
       "      <td>6</td>\n",
       "      <td>10</td>\n",
       "      <td>8</td>\n",
       "      <td>3</td>\n",
       "      <td>10</td>\n",
       "    </tr>\n",
       "    <tr>\n",
       "      <th>14</th>\n",
       "      <td>3</td>\n",
       "      <td>1</td>\n",
       "      <td>8</td>\n",
       "      <td>5</td>\n",
       "      <td>6</td>\n",
       "      <td>1</td>\n",
       "      <td>7</td>\n",
       "      <td>10</td>\n",
       "      <td>8</td>\n",
       "      <td>6</td>\n",
       "    </tr>\n",
       "    <tr>\n",
       "      <th>14</th>\n",
       "      <td>3</td>\n",
       "      <td>1</td>\n",
       "      <td>8</td>\n",
       "      <td>5</td>\n",
       "      <td>6</td>\n",
       "      <td>1</td>\n",
       "      <td>7</td>\n",
       "      <td>10</td>\n",
       "      <td>8</td>\n",
       "      <td>6</td>\n",
       "    </tr>\n",
       "    <tr>\n",
       "      <th>47</th>\n",
       "      <td>3</td>\n",
       "      <td>6</td>\n",
       "      <td>1</td>\n",
       "      <td>1</td>\n",
       "      <td>3</td>\n",
       "      <td>4</td>\n",
       "      <td>6</td>\n",
       "      <td>4</td>\n",
       "      <td>2</td>\n",
       "      <td>5</td>\n",
       "    </tr>\n",
       "    <tr>\n",
       "      <th>22</th>\n",
       "      <td>4</td>\n",
       "      <td>8</td>\n",
       "      <td>3</td>\n",
       "      <td>9</td>\n",
       "      <td>4</td>\n",
       "      <td>6</td>\n",
       "      <td>2</td>\n",
       "      <td>2</td>\n",
       "      <td>7</td>\n",
       "      <td>7</td>\n",
       "    </tr>\n",
       "    <tr>\n",
       "      <th>22</th>\n",
       "      <td>4</td>\n",
       "      <td>8</td>\n",
       "      <td>3</td>\n",
       "      <td>9</td>\n",
       "      <td>4</td>\n",
       "      <td>6</td>\n",
       "      <td>2</td>\n",
       "      <td>2</td>\n",
       "      <td>7</td>\n",
       "      <td>7</td>\n",
       "    </tr>\n",
       "    <tr>\n",
       "      <th>22</th>\n",
       "      <td>4</td>\n",
       "      <td>8</td>\n",
       "      <td>3</td>\n",
       "      <td>9</td>\n",
       "      <td>4</td>\n",
       "      <td>6</td>\n",
       "      <td>2</td>\n",
       "      <td>2</td>\n",
       "      <td>7</td>\n",
       "      <td>7</td>\n",
       "    </tr>\n",
       "    <tr>\n",
       "      <th>12</th>\n",
       "      <td>5</td>\n",
       "      <td>7</td>\n",
       "      <td>6</td>\n",
       "      <td>8</td>\n",
       "      <td>1</td>\n",
       "      <td>6</td>\n",
       "      <td>10</td>\n",
       "      <td>6</td>\n",
       "      <td>8</td>\n",
       "      <td>7</td>\n",
       "    </tr>\n",
       "    <tr>\n",
       "      <th>12</th>\n",
       "      <td>5</td>\n",
       "      <td>7</td>\n",
       "      <td>6</td>\n",
       "      <td>8</td>\n",
       "      <td>1</td>\n",
       "      <td>6</td>\n",
       "      <td>10</td>\n",
       "      <td>6</td>\n",
       "      <td>8</td>\n",
       "      <td>7</td>\n",
       "    </tr>\n",
       "    <tr>\n",
       "      <th>12</th>\n",
       "      <td>5</td>\n",
       "      <td>7</td>\n",
       "      <td>6</td>\n",
       "      <td>8</td>\n",
       "      <td>1</td>\n",
       "      <td>6</td>\n",
       "      <td>10</td>\n",
       "      <td>6</td>\n",
       "      <td>8</td>\n",
       "      <td>7</td>\n",
       "    </tr>\n",
       "    <tr>\n",
       "      <th>18</th>\n",
       "      <td>6</td>\n",
       "      <td>10</td>\n",
       "      <td>6</td>\n",
       "      <td>5</td>\n",
       "      <td>10</td>\n",
       "      <td>4</td>\n",
       "      <td>3</td>\n",
       "      <td>3</td>\n",
       "      <td>6</td>\n",
       "      <td>8</td>\n",
       "    </tr>\n",
       "    <tr>\n",
       "      <th>16</th>\n",
       "      <td>6</td>\n",
       "      <td>1</td>\n",
       "      <td>8</td>\n",
       "      <td>9</td>\n",
       "      <td>7</td>\n",
       "      <td>5</td>\n",
       "      <td>7</td>\n",
       "      <td>4</td>\n",
       "      <td>10</td>\n",
       "      <td>2</td>\n",
       "    </tr>\n",
       "    <tr>\n",
       "      <th>32</th>\n",
       "      <td>6</td>\n",
       "      <td>5</td>\n",
       "      <td>8</td>\n",
       "      <td>8</td>\n",
       "      <td>10</td>\n",
       "      <td>4</td>\n",
       "      <td>9</td>\n",
       "      <td>4</td>\n",
       "      <td>6</td>\n",
       "      <td>7</td>\n",
       "    </tr>\n",
       "    <tr>\n",
       "      <th>40</th>\n",
       "      <td>7</td>\n",
       "      <td>10</td>\n",
       "      <td>5</td>\n",
       "      <td>10</td>\n",
       "      <td>4</td>\n",
       "      <td>8</td>\n",
       "      <td>9</td>\n",
       "      <td>7</td>\n",
       "      <td>7</td>\n",
       "      <td>8</td>\n",
       "    </tr>\n",
       "    <tr>\n",
       "      <th>36</th>\n",
       "      <td>7</td>\n",
       "      <td>7</td>\n",
       "      <td>3</td>\n",
       "      <td>6</td>\n",
       "      <td>3</td>\n",
       "      <td>4</td>\n",
       "      <td>8</td>\n",
       "      <td>10</td>\n",
       "      <td>10</td>\n",
       "      <td>7</td>\n",
       "    </tr>\n",
       "    <tr>\n",
       "      <th>15</th>\n",
       "      <td>7</td>\n",
       "      <td>4</td>\n",
       "      <td>10</td>\n",
       "      <td>8</td>\n",
       "      <td>7</td>\n",
       "      <td>10</td>\n",
       "      <td>1</td>\n",
       "      <td>1</td>\n",
       "      <td>6</td>\n",
       "      <td>8</td>\n",
       "    </tr>\n",
       "    <tr>\n",
       "      <th>44</th>\n",
       "      <td>8</td>\n",
       "      <td>5</td>\n",
       "      <td>2</td>\n",
       "      <td>10</td>\n",
       "      <td>1</td>\n",
       "      <td>5</td>\n",
       "      <td>10</td>\n",
       "      <td>6</td>\n",
       "      <td>6</td>\n",
       "      <td>4</td>\n",
       "    </tr>\n",
       "    <tr>\n",
       "      <th>8</th>\n",
       "      <td>8</td>\n",
       "      <td>7</td>\n",
       "      <td>7</td>\n",
       "      <td>6</td>\n",
       "      <td>8</td>\n",
       "      <td>4</td>\n",
       "      <td>2</td>\n",
       "      <td>2</td>\n",
       "      <td>7</td>\n",
       "      <td>4</td>\n",
       "    </tr>\n",
       "    <tr>\n",
       "      <th>2</th>\n",
       "      <td>8</td>\n",
       "      <td>8</td>\n",
       "      <td>5</td>\n",
       "      <td>4</td>\n",
       "      <td>8</td>\n",
       "      <td>1</td>\n",
       "      <td>7</td>\n",
       "      <td>7</td>\n",
       "      <td>9</td>\n",
       "      <td>3</td>\n",
       "    </tr>\n",
       "    <tr>\n",
       "      <th>48</th>\n",
       "      <td>9</td>\n",
       "      <td>5</td>\n",
       "      <td>5</td>\n",
       "      <td>4</td>\n",
       "      <td>7</td>\n",
       "      <td>10</td>\n",
       "      <td>2</td>\n",
       "      <td>6</td>\n",
       "      <td>6</td>\n",
       "      <td>3</td>\n",
       "    </tr>\n",
       "    <tr>\n",
       "      <th>38</th>\n",
       "      <td>9</td>\n",
       "      <td>2</td>\n",
       "      <td>8</td>\n",
       "      <td>10</td>\n",
       "      <td>3</td>\n",
       "      <td>3</td>\n",
       "      <td>7</td>\n",
       "      <td>6</td>\n",
       "      <td>7</td>\n",
       "      <td>9</td>\n",
       "    </tr>\n",
       "    <tr>\n",
       "      <th>48</th>\n",
       "      <td>9</td>\n",
       "      <td>5</td>\n",
       "      <td>5</td>\n",
       "      <td>4</td>\n",
       "      <td>7</td>\n",
       "      <td>10</td>\n",
       "      <td>2</td>\n",
       "      <td>6</td>\n",
       "      <td>6</td>\n",
       "      <td>3</td>\n",
       "    </tr>\n",
       "    <tr>\n",
       "      <th>20</th>\n",
       "      <td>10</td>\n",
       "      <td>1</td>\n",
       "      <td>10</td>\n",
       "      <td>6</td>\n",
       "      <td>7</td>\n",
       "      <td>9</td>\n",
       "      <td>4</td>\n",
       "      <td>2</td>\n",
       "      <td>1</td>\n",
       "      <td>7</td>\n",
       "    </tr>\n",
       "    <tr>\n",
       "      <th>20</th>\n",
       "      <td>10</td>\n",
       "      <td>1</td>\n",
       "      <td>10</td>\n",
       "      <td>6</td>\n",
       "      <td>7</td>\n",
       "      <td>9</td>\n",
       "      <td>4</td>\n",
       "      <td>2</td>\n",
       "      <td>1</td>\n",
       "      <td>7</td>\n",
       "    </tr>\n",
       "    <tr>\n",
       "      <th>20</th>\n",
       "      <td>10</td>\n",
       "      <td>1</td>\n",
       "      <td>10</td>\n",
       "      <td>6</td>\n",
       "      <td>7</td>\n",
       "      <td>9</td>\n",
       "      <td>4</td>\n",
       "      <td>2</td>\n",
       "      <td>1</td>\n",
       "      <td>7</td>\n",
       "    </tr>\n",
       "  </tbody>\n",
       "</table>\n",
       "</div>"
      ],
      "text/plain": [
       "    _0  _1  _2  _3  _4  _5  _6  _7  _8  _9\n",
       "24   1   3   5   6   3   4   5   8   5   5\n",
       "49   1   8   7   6   5   9  10   3   4   4\n",
       "11   1   6   6   4   5   7   2   5  10   8\n",
       "46   2   5   6   9   7  10   3   5   8  10\n",
       "21   2   4  10   5   1   7   1  10   9   5\n",
       "26   2   8   8   8   7   6  10   8   3  10\n",
       "14   3   1   8   5   6   1   7  10   8   6\n",
       "14   3   1   8   5   6   1   7  10   8   6\n",
       "47   3   6   1   1   3   4   6   4   2   5\n",
       "22   4   8   3   9   4   6   2   2   7   7\n",
       "22   4   8   3   9   4   6   2   2   7   7\n",
       "22   4   8   3   9   4   6   2   2   7   7\n",
       "12   5   7   6   8   1   6  10   6   8   7\n",
       "12   5   7   6   8   1   6  10   6   8   7\n",
       "12   5   7   6   8   1   6  10   6   8   7\n",
       "18   6  10   6   5  10   4   3   3   6   8\n",
       "16   6   1   8   9   7   5   7   4  10   2\n",
       "32   6   5   8   8  10   4   9   4   6   7\n",
       "40   7  10   5  10   4   8   9   7   7   8\n",
       "36   7   7   3   6   3   4   8  10  10   7\n",
       "15   7   4  10   8   7  10   1   1   6   8\n",
       "44   8   5   2  10   1   5  10   6   6   4\n",
       "8    8   7   7   6   8   4   2   2   7   4\n",
       "2    8   8   5   4   8   1   7   7   9   3\n",
       "48   9   5   5   4   7  10   2   6   6   3\n",
       "38   9   2   8  10   3   3   7   6   7   9\n",
       "48   9   5   5   4   7  10   2   6   6   3\n",
       "20  10   1  10   6   7   9   4   2   1   7\n",
       "20  10   1  10   6   7   9   4   2   1   7\n",
       "20  10   1  10   6   7   9   4   2   1   7"
      ]
     },
     "execution_count": 14,
     "metadata": {},
     "output_type": "execute_result"
    }
   ],
   "source": [
    "df0"
   ]
  },
  {
   "cell_type": "code",
   "execution_count": 21,
   "metadata": {},
   "outputs": [
    {
     "data": {
      "text/plain": [
       "[[0, 0],\n",
       " [1, 1],\n",
       " [2, 2],\n",
       " [3, 3],\n",
       " [4, 4],\n",
       " [5, 5],\n",
       " [6, 6],\n",
       " [7, 7],\n",
       " [8, 8],\n",
       " [9, 9]]"
      ]
     },
     "execution_count": 21,
     "metadata": {},
     "output_type": "execute_result"
    }
   ],
   "source": [
    "import numpy as np\n",
    "\n",
    "base_topics = np.array([i for i in range(10)])\n",
    "topics = base_topics.copy().reshape(-1, 1)\n",
    "mappings_ = np.hstack([topics.copy(), topics.copy()]).tolist()\n",
    "mappings_"
   ]
  },
  {
   "cell_type": "code",
   "execution_count": 23,
   "metadata": {},
   "outputs": [
    {
     "data": {
      "text/plain": [
       "{0: 0, 1: 1, 2: 2, 3: 3, 4: 4, 5: 5, 6: 6, 7: 7, 8: 8, 9: 9}"
      ]
     },
     "execution_count": 23,
     "metadata": {},
     "output_type": "execute_result"
    }
   ],
   "source": [
    "mappings = np.array(mappings_)[:, [0, -1]]\n",
    "mappings = dict(zip(mappings[:, 0], mappings[:, 1]))\n",
    "\n",
    "mappings"
   ]
  },
  {
   "cell_type": "code",
   "execution_count": 23,
   "metadata": {},
   "outputs": [
    {
     "data": {
      "text/plain": [
       "array([0.        , 1.41421356, 2.23606798])"
      ]
     },
     "execution_count": 23,
     "metadata": {},
     "output_type": "execute_result"
    }
   ],
   "source": [
    "import numpy as np \n",
    "\n",
    "x1 = np.array([1, 1, 2])\n",
    "x2 = np.array([2, 2, 2])\n",
    "x4 = np.array([1, 2, 4])\n",
    "\n",
    "x3 = np.array([x1, x2, x4])\n",
    "\n",
    "np.linalg.norm(x3 - x1, axis=1)"
   ]
  },
  {
   "cell_type": "code",
   "execution_count": 27,
   "metadata": {},
   "outputs": [],
   "source": [
    "from scipy.spatial import distance\n",
    "def mahalanobis_distance(vector, vectors, cov_inv):\n",
    "    \"\"\"\n",
    "    Calculate the Mahalanobis distance between a vector and a group of vectors.\n",
    "    \n",
    "    Parameters:\n",
    "    vector : array_like\n",
    "        The vector for which distances are to be calculated.\n",
    "    vectors : array_like\n",
    "        An array of vectors to which distances are to be calculated.\n",
    "    cov_inv : array_like\n",
    "        The inverse covariance matrix of the vectors.\n",
    "        \n",
    "    Returns:\n",
    "    array_like\n",
    "        An array of Mahalanobis distances between the vector and each vector in vectors.\n",
    "    \"\"\"\n",
    "    # Calculate the Mahalanobis distance between the vector and each vector in vectors\n",
    "    distances = []\n",
    "    for v in vectors:\n",
    "        diff = v - vector\n",
    "        distances.append(distance.mahalanobis(diff, np.zeros_like(diff), cov_inv))\n",
    "    return distances"
   ]
  },
  {
   "cell_type": "code",
   "execution_count": 29,
   "metadata": {},
   "outputs": [
    {
     "data": {
      "text/plain": [
       "(array([[1, 1, 2],\n",
       "        [2, 2, 2],\n",
       "        [1, 2, 4]]),\n",
       " array([[ 0.33333333,  0.16666667, -0.33333333],\n",
       "        [ 0.16666667,  0.33333333,  0.33333333],\n",
       "        [-0.33333333,  0.33333333,  1.33333333]]),\n",
       " [0.0, 2.8284271247461903, 2.0])"
      ]
     },
     "execution_count": 29,
     "metadata": {},
     "output_type": "execute_result"
    }
   ],
   "source": [
    "\n",
    "cov_matrix = np.cov(x3.T)  # Calculate covariance matrix\n",
    "cov_inv = np.linalg.inv(cov_matrix)\n",
    "distances = mahalanobis_distance(x1, x3, cov_inv)\n",
    "x3, cov_matrix, distances\n",
    "# distances\n",
    "# distances\n",
    "# cov_inv"
   ]
  },
  {
   "cell_type": "code",
   "execution_count": 19,
   "metadata": {},
   "outputs": [],
   "source": [
    "import pandas as pd\n",
    "import numpy as np\n",
    "\n",
    "def fetchArray(df):\n",
    "    df.fillna(0, inplace=True)\n",
    "    docSim = []\n",
    "    for _, row in df.iterrows():\n",
    "        docSim.append(row.values.tolist()[1:])\n",
    "    \n",
    "    return np.asarray(docSim)\n",
    "\n",
    "import matplotlib.pyplot as plt\n",
    "import seaborn as sns\n",
    "import matplotlib.ticker as ticker\n",
    "\n",
    "topNum = 5\n",
    "def saveFig(data, title, outpath, isSimilarity=False, myTopNum = None, xlabel='Similarity'):\n",
    "    thisTopNum = myTopNum or topNum\n",
    "    plt.figure(figsize=(8, 6))\n",
    "    colors = ['blue', 'orange', 'green', 'red', 'purple']\n",
    "    for i in range(thisTopNum - 1, -1, -1):\n",
    "        sns.kdeplot(data[:, i], color=colors[i], fill=False, label=f'top_{thisTopNum - i}')\n",
    "    if isSimilarity:\n",
    "        plt.xticks(np.arange(0, 1, 0.05))\n",
    "    # else:\n",
    "        # plt.yscale('log')\n",
    "        # plt.gca().xaxis.set_major_locator(ticker.MultipleLocator(base=0.4)) # Adjust the base value as needed\n",
    "\n",
    "    plt.title(title)\n",
    "    plt.xlabel(xlabel)\n",
    "    plt.ylabel('Density')\n",
    "    plt.legend()\n",
    "    plt.grid(True)\n",
    "    plt.savefig(outpath)\n",
    "    plt.close()\n",
    "    print(f'save fig {outpath}')"
   ]
  },
  {
   "cell_type": "code",
   "execution_count": 13,
   "metadata": {},
   "outputs": [],
   "source": [
    "field = 'fellowVSNon'\n",
    "suffix = '-tc100'\n",
    "dirMid = f'{field}{suffix}'\n",
    "outDir = f'./topicAutoSimple/output/{dirMid}'\n",
    "\n",
    "# dfSim = pd.read_csv(f'{outDir}/paperIDEuDisDist.csv')\n",
    "dfSim = pd.read_csv(f'{outDir}/paperIDMHDisDist.csv')\n",
    "docSim = fetchArray(dfSim)\n",
    "dfDoc = pd.read_csv(f'{outDir}/docInfo.csv')\n",
    "originTopics = dfDoc['Topic'].values"
   ]
  },
  {
   "cell_type": "code",
   "execution_count": 14,
   "metadata": {},
   "outputs": [],
   "source": [
    "originDf = pd.read_csv(f'./topicAutoSimple/src/papers_{field}_autoTop.csv')\n",
    "paperKey = originDf.dropna(subset=['abstract']).paperID.tolist()\n",
    "dfDoc['paperID'] = paperKey\n",
    "dfPosPaperIDSet = set(dfDoc[dfDoc['Topic'] != -1]['paperID'].tolist())\n",
    "dfNegPaperIDSet = set(dfDoc[dfDoc['Topic'] == -1]['paperID'].tolist())\n",
    "df = originDf.dropna(subset=['abstract'])\n",
    "hasAbPaperID = set(df.paperID.tolist())\n",
    "hasAbIndices = df.index.tolist()\n",
    "\n",
    "hasAbPosIndices = originDf[originDf['paperID'].isin(dfPosPaperIDSet)].index.tolist()\n",
    "hasAbNegIndices = originDf[originDf['paperID'].isin(dfNegPaperIDSet)].index.tolist()\n",
    "\n",
    "noAbDf = originDf[~originDf['paperID'].isin(hasAbPaperID)]\n",
    "noAbIndices = noAbDf.index.tolist()\n",
    "sortedSim = np.sort(docSim, axis=1)[:,::-1]"
   ]
  },
  {
   "cell_type": "code",
   "execution_count": 15,
   "metadata": {},
   "outputs": [
    {
     "data": {
      "text/plain": [
       "array([[32.77358301, 32.46990078, 31.09563501, ..., 22.86519619,\n",
       "        22.71987953, 21.46126231],\n",
       "       [31.22636204, 29.86155391, 29.68190527, ..., 19.39770712,\n",
       "        18.91615544, 18.80166066],\n",
       "       [36.40410738, 34.57243759, 34.38578616, ..., 26.3411668 ,\n",
       "        26.26392626, 25.70452977],\n",
       "       ...,\n",
       "       [28.28046651, 27.58910596, 26.55710651, ..., 15.20568317,\n",
       "        15.14981695, 15.03430246],\n",
       "       [31.01929855, 29.45965093, 27.87680294, ..., 18.74558219,\n",
       "        18.67391426, 18.43692221],\n",
       "       [33.15013677, 32.65436943, 31.43377427, ..., 22.71645151,\n",
       "        22.48314293, 22.20881344]])"
      ]
     },
     "execution_count": 15,
     "metadata": {},
     "output_type": "execute_result"
    }
   ],
   "source": [
    "sortedSim"
   ]
  },
  {
   "cell_type": "code",
   "execution_count": 16,
   "metadata": {},
   "outputs": [
    {
     "data": {
      "text/plain": [
       "(64.45968262206075, 10.138378574637876)"
      ]
     },
     "execution_count": 16,
     "metadata": {},
     "output_type": "execute_result"
    }
   ],
   "source": [
    "np.max(sortedSim), np.min(sortedSim)"
   ]
  },
  {
   "cell_type": "code",
   "execution_count": 12,
   "metadata": {},
   "outputs": [
    {
     "data": {
      "text/plain": [
       "394860"
      ]
     },
     "execution_count": 12,
     "metadata": {},
     "output_type": "execute_result"
    }
   ],
   "source": [
    "l2 = np.max(sortedSim, axis=1)\n",
    "l1 = l2[l2 < 1]\n",
    "len(l1)"
   ]
  },
  {
   "cell_type": "code",
   "execution_count": 17,
   "metadata": {},
   "outputs": [],
   "source": [
    "import os\n",
    "topNum = 5\n",
    "def saveFigs(sortedSim, suffix, isSimilarity=False, xlabel='Similarity', xAbbr='Sim', partHaveAb=True):\n",
    "    topSim = sortedSim[:, -topNum:]\n",
    "    if partHaveAb:\n",
    "        topSimHasAb = topSim[hasAbIndices]\n",
    "        topSimNoAb = topSim[noAbIndices]\n",
    "    topSimHasAbPos = topSim[hasAbPosIndices]\n",
    "    topSimHasAbNeg = topSim[hasAbNegIndices]\n",
    "        \n",
    "    figOutDir = f'{outDir}/fig{suffix}'\n",
    "    os.makedirs(figOutDir, exist_ok=True)\n",
    "    saveFig(topSim, f'Top {topNum} {xlabel} Distribution {suffix}', f'{figOutDir}/top{topNum}{xAbbr}Dist.png', isSimilarity=isSimilarity, xlabel=xlabel)\n",
    "    if partHaveAb:\n",
    "        saveFig(topSimHasAb, f'Top {topNum} {xlabel} Distribution (Has Abstract) {suffix}', f'{figOutDir}/top{topNum}{xAbbr}DistHasAb.png', isSimilarity=isSimilarity, xlabel=xlabel)\n",
    "        saveFig(topSimNoAb, f'Top {topNum} {xlabel} Distribution (No Abstract) {suffix}', f'{figOutDir}/top{topNum}{xAbbr}DistNoAb.png', isSimilarity=isSimilarity, xlabel=xlabel)\n",
    "    saveFig(topSimHasAbPos, f'Top {topNum} {xlabel} Distribution (Has Abstract & Positive) {suffix}', f'{figOutDir}/top{topNum}{xAbbr}DistHasAbPos.png', isSimilarity=isSimilarity, xlabel=xlabel)\n",
    "    saveFig(topSimHasAbNeg, f'Top {topNum} {xlabel} Distribution (Has Abstract & Negative) {suffix}', f'{figOutDir}/top{topNum}{xAbbr}DistHasAbNeg.png', isSimilarity=isSimilarity, xlabel=xlabel)"
   ]
  },
  {
   "cell_type": "code",
   "execution_count": 20,
   "metadata": {},
   "outputs": [
    {
     "name": "stdout",
     "output_type": "stream",
     "text": [
      "save fig ./topicAutoSimple/output/fellowVSNon-tc100/fig/top5MHDisDist.png\n",
      "save fig ./topicAutoSimple/output/fellowVSNon-tc100/fig/top5MHDisDistHasAb.png\n",
      "save fig ./topicAutoSimple/output/fellowVSNon-tc100/fig/top5MHDisDistNoAb.png\n",
      "save fig ./topicAutoSimple/output/fellowVSNon-tc100/fig/top5MHDisDistHasAbPos.png\n",
      "save fig ./topicAutoSimple/output/fellowVSNon-tc100/fig/top5MHDisDistHasAbNeg.png\n"
     ]
    }
   ],
   "source": [
    "# saveFigs(sortedSim, '', isSimilarity=False, xlabel='Distance', xAbbr='Dis')\n",
    "saveFigs(sortedSim, '', isSimilarity=False, xlabel='Distance', xAbbr='MHDis')"
   ]
  }
 ],
 "metadata": {
  "kernelspec": {
   "display_name": "py39base",
   "language": "python",
   "name": "python3"
  },
  "language_info": {
   "codemirror_mode": {
    "name": "ipython",
    "version": 3
   },
   "file_extension": ".py",
   "mimetype": "text/x-python",
   "name": "python",
   "nbconvert_exporter": "python",
   "pygments_lexer": "ipython3",
   "version": "3.9.16"
  },
  "orig_nbformat": 4
 },
 "nbformat": 4,
 "nbformat_minor": 2
}
