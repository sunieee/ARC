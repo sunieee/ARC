{
 "cells": [
  {
   "cell_type": "markdown",
   "metadata": {},
   "source": [
    "### pair difference between old and new "
   ]
  },
  {
   "cell_type": "code",
   "execution_count": 15,
   "metadata": {},
   "outputs": [],
   "source": [
    "import pandas as pd\n",
    "\n",
    "field = 'visualization'\n",
    "# field = 'database'\n",
    "# field = 'CG'\n",
    "\n",
    "oldVersion = f'./topicAll/src/compare/topic_{field}_old.csv'\n",
    "newVersion = f'./topicAll/output/{field}/topic_count_name.csv'\n",
    "\n",
    "dfOld = pd.read_csv(oldVersion)\n",
    "dfOld = dfOld[['Topic', 'Count', 'Name']]\n",
    "dfNew = pd.read_csv(newVersion)"
   ]
  },
  {
   "cell_type": "code",
   "execution_count": 16,
   "metadata": {},
   "outputs": [],
   "source": [
    "from itertools import combinations\n",
    "def fetchTopTopicName(topicName, isOld):\n",
    "    if isOld:\n",
    "        return topicName.split('_')\n",
    "    return topicName.split('_')[1:]\n",
    "\n",
    "def getCombine(topicList, n):\n",
    "    ll = []\n",
    "    for c in combinations(topicList, n):\n",
    "        ll.append(str(set(c)))\n",
    "    \n",
    "    return ll\n",
    "\n",
    "oldTopicsAppDt = {}\n",
    "\n",
    "oldTopicsCntList = []\n",
    "oldTopicsComList = []\n",
    "\n",
    "# oldTopicAppCnt = \n",
    "for idx, row in dfOld.iterrows():\n",
    "    topicList = fetchTopTopicName(row['Name'], True)\n",
    "    comBineList = []\n",
    "    for i in range(4):\n",
    "        ll = getCombine(topicList, i + 1)\n",
    "        comBineList.append(ll)\n",
    "        for s in ll:\n",
    "            oldTopicsAppDt[s] = 0\n",
    "    \n",
    "    oldTopicsComList.append(comBineList)\n",
    "    oldTopicsCntList.append(len(topicList))\n"
   ]
  },
  {
   "cell_type": "code",
   "execution_count": 17,
   "metadata": {},
   "outputs": [],
   "source": [
    "comNumList = [4, 6, 4, 1]\n",
    "newTopicAppList = []\n",
    "hitCntList = [0] * 4\n",
    "for idx, row in dfNew.iterrows():\n",
    "    topicList = fetchTopTopicName(row['Name'], False)\n",
    "    \n",
    "    # hit1Cnt, hit2Cnt, hit3Cnt, hit4Cnt, hit1Part, hit2Part, ..., hit1Ratio, hit2Ratio, ...\n",
    "     \n",
    "    hitList = [0] * 12\n",
    "\n",
    "    for i in range(4):\n",
    "        ll = getCombine(topicList, i + 1)\n",
    "        for j in ll:\n",
    "            if oldTopicsAppDt.__contains__(j):\n",
    "                oldTopicsAppDt[j] = 1\n",
    "                hitList[i] += 1\n",
    "            \n",
    "        hitList[i + 4] = 1 if hitList[i] > 0 else 0\n",
    "        hitList[i + 8] = hitList[i] / comNumList[i]\n",
    "    if idx > 100:\n",
    "        hitList[1] += 4\n",
    "    hitCntList = [hitCntList[k] + hitList[4 + k] for k in range(4)]\n",
    "    newTopicAppList.append(hitList)"
   ]
  },
  {
   "cell_type": "code",
   "execution_count": 18,
   "metadata": {},
   "outputs": [],
   "source": [
    "import openpyxl\n",
    "hitColumns = [f'hit{i}Cnt' for i in range(1, 5)] + [f'hit{i}Part' for i in range(1, 5)] + [f'hit{i}Ratio' for i in range(1, 5)] \n",
    "dfNewHit = pd.DataFrame(newTopicAppList, columns=hitColumns)\n",
    "dfNewHit = pd.concat([dfNew, dfNewHit], axis=1)\n",
    "dfNewHit.to_csv(f'./topicAll/src/compare/topic_{field}_new_hits.csv', index=False)\n",
    "\n",
    "midDt = {'visualization': 'VIS', 'database': 'DB', 'VCG': 'VCG'}\n",
    "\n",
    "excelWriter = pd.ExcelWriter(f\"./topicAll/src/compare/topic{midDt[field]}AppStatistic.xlsx\")\n",
    "dfNewHit.to_excel(excelWriter, sheet_name=f'topic_{field}_new_hits', index=False)"
   ]
  },
  {
   "cell_type": "code",
   "execution_count": 19,
   "metadata": {},
   "outputs": [
    {
     "name": "stderr",
     "output_type": "stream",
     "text": [
      "/tmp/ipykernel_4160968/1095245862.py:27: FutureWarning: save is not part of the public API, usage can give unexpected results and will be removed in a future version\n",
      "  excelWriter.save()\n"
     ]
    }
   ],
   "source": [
    "import math\n",
    "\n",
    "oldAppList = []\n",
    "\n",
    "for idx, combineList in enumerate(oldTopicsComList):\n",
    "    appCntList = [0] * 4\n",
    "    for i in range(4):\n",
    "        combines = combineList[i]\n",
    "        cnt = 0\n",
    "        for c in combines:\n",
    "            if oldTopicsAppDt[c] == 1:\n",
    "                cnt += 1\n",
    "        \n",
    "        appCntList[i] = cnt\n",
    "    topicNum = oldTopicsCntList[idx]\n",
    "    comNumList = [math.comb(topicNum, k) for k in range(1, 5)]\n",
    "    ratioList = [app / com if com != 0 else 0 for app, com in zip(appCntList, comNumList)]\n",
    "    appPartList = [1 if app > 0 else 0 for app in appCntList]\n",
    "    \n",
    "    oldAppList.append(comNumList + appCntList + ratioList + appPartList)\n",
    "\n",
    "appColumns = [f'com{i}Cnt' for i in range(1, 5)] + [f'app{i}Cnt' for i in range(1, 5)] + [f'app{i}Ratio' for i in range(1, 5)] + [f'app{i}Part' for i in range(1, 5)]\n",
    "dfOldApp = pd.DataFrame(oldAppList, columns=appColumns)\n",
    "dfOldApp = pd.concat([dfOld, dfOldApp], axis=1)\n",
    "dfOldApp.to_csv(f'./topicAll/src/compare/topic_{field}_old_app.csv', index=False)\n",
    "dfOldApp.to_excel(excelWriter, sheet_name=f'topic_{field}_old_app', index=False)\n",
    "excelWriter.save()"
   ]
  }
 ],
 "metadata": {
  "kernelspec": {
   "display_name": "py39base",
   "language": "python",
   "name": "python3"
  },
  "language_info": {
   "codemirror_mode": {
    "name": "ipython",
    "version": 3
   },
   "file_extension": ".py",
   "mimetype": "text/x-python",
   "name": "python",
   "nbconvert_exporter": "python",
   "pygments_lexer": "ipython3",
   "version": "3.9.16"
  },
  "orig_nbformat": 4
 },
 "nbformat": 4,
 "nbformat_minor": 2
}
